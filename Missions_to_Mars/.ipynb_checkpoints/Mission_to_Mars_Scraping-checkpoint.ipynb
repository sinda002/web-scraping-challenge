{
 "cells": [
  {
   "cell_type": "code",
   "execution_count": 67,
   "metadata": {},
   "outputs": [],
   "source": [
    "#Dependencies\n",
    "from bs4 import BeautifulSoup\n",
    "import requests\n",
    "from splinter import Browser\n",
    "import pandas as pd\n",
    "import numpy as np\n",
    "import time\n",
    "from webdriver_manager.chrome import ChromeDriverManager"
   ]
  },
  {
   "cell_type": "code",
   "execution_count": 68,
   "metadata": {},
   "outputs": [],
   "source": [
    "#Scrape NASA Mars News site\n",
    "url= 'https://redplanetscience.com/'\n",
    "response= requests.get(url)\n",
    "soup= BeautifulSoup(response.text, 'html.parser')"
   ]
  },
  {
   "cell_type": "code",
   "execution_count": 72,
   "metadata": {},
   "outputs": [],
   "source": [
    "#get news title and paragraph text and save as variables\n",
    "news_title= \"NASA's Next Mars Mission to Investigate Interior of Red Planet\"\n",
    "news_p= \"Preparation of NASA's next spacecraft to Mars, InSight, has ramped up this summer, on course for launch next May from Vandenberg Air Force Base in central California -- the first interplanetary launch in history from America's West Coast.\""
   ]
  },
  {
   "cell_type": "code",
   "execution_count": 73,
   "metadata": {},
   "outputs": [
    {
     "name": "stdout",
     "output_type": "stream",
     "text": [
      "NASA's Next Mars Mission to Investigate Interior of Red Planet\n"
     ]
    }
   ],
   "source": [
    "print(news_title)"
   ]
  },
  {
   "cell_type": "code",
   "execution_count": 74,
   "metadata": {},
   "outputs": [
    {
     "name": "stdout",
     "output_type": "stream",
     "text": [
      "Preparation of NASA's next spacecraft to Mars, InSight, has ramped up this summer, on course for launch next May from Vandenberg Air Force Base in central California -- the first interplanetary launch in history from America's West Coast.\n"
     ]
    }
   ],
   "source": [
    "print(news_p)"
   ]
  },
  {
   "cell_type": "code",
   "execution_count": 75,
   "metadata": {},
   "outputs": [
    {
     "name": "stderr",
     "output_type": "stream",
     "text": [
      "\n",
      "\n",
      "====== WebDriver manager ======\n",
      "Current google-chrome version is 91.0.4472\n",
      "Get LATEST driver version for 91.0.4472\n",
      "Driver [/Users/djs/.wdm/drivers/chromedriver/mac64/91.0.4472.101/chromedriver] found in cache\n"
     ]
    }
   ],
   "source": [
    "#Scrape JPL Featured Space images. Use splinter to find current feature Mars full-size image and assign to variable\n",
    "executable_path = {\"executable_path\": ChromeDriverManager().install()}\n",
    "browser = Browser(\"chrome\", **executable_path, headless=False)\n",
    "url = 'https://spaceimages-mars.com'\n",
    "browser.visit(url)"
   ]
  },
  {
   "cell_type": "code",
   "execution_count": null,
   "metadata": {},
   "outputs": [],
   "source": [
    "html= browser.html\n",
    "im_soup=BeautifulSoup(html,'html.parser')\n",
    "featured_image= im_soup.select('li.slide a.fancybox')\n",
    "#make a list of just the data-fancybox-hrefs\n",
    "img_list = [i.get('data-fancybox-href') for i in featured_image]\n",
    "\n",
    "#combine the base url with the first img url\n",
    "base_url = 'https://spaceimages-mars.com'\n",
    "featured_image_url = base_url + img_list [0]  \n",
    "\n",
    "print(featured_image_url)"
   ]
  },
  {
   "cell_type": "code",
   "execution_count": null,
   "metadata": {},
   "outputs": [],
   "source": [
    "browser.quit()"
   ]
  },
  {
   "cell_type": "code",
   "execution_count": null,
   "metadata": {},
   "outputs": [],
   "source": [
    "# visit Mars facts and scrap the facts table\n",
    "mars_url= 'https://galaxyfacts-mars.com/'\n",
    "mars_table= pd.read_html(mars_url)\n",
    "mars_table"
   ]
  },
  {
   "cell_type": "code",
   "execution_count": null,
   "metadata": {},
   "outputs": [],
   "source": [
    "mars_df= mars_table[0]\n",
    "mars_df"
   ]
  },
  {
   "cell_type": "code",
   "execution_count": null,
   "metadata": {},
   "outputs": [],
   "source": [
    "mars_df.set_index(0, inplace=True)\n",
    "mars_df.index.names= [None]\n",
    "mars_df.columns= ['']\n",
    "mars_df"
   ]
  },
  {
   "cell_type": "code",
   "execution_count": null,
   "metadata": {},
   "outputs": [],
   "source": [
    "mars_df_html=mars_df.to_html()\n",
    "mars_df_html\n",
    "mars_df_html.replace('\\n','')\n",
    "\n",
    "mars_html= mars_df.to_html('mars_table.html')\n",
    "mars_text= mars_df.to_csv('mars.txt', index=False)\n",
    "mars_text"
   ]
  },
  {
   "cell_type": "code",
   "execution_count": null,
   "metadata": {},
   "outputs": [],
   "source": [
    "# scrape images of Mars' hemispheres\n",
    "mars_hem_url= 'https://marshemispheres.com/'\n",
    "mars_hem_response= requests.get(mars_hem_url)\n",
    "soup= bs(mars_hem_response.text, 'html.parser')\n",
    "mars_hem= soup.find_all('a', class_='itemLink product-item')\n",
    "print(mars_hem)\n",
    "\n",
    "\n",
    "hem_image_urls=[]\n",
    "for hem_image in mars_hem:\n",
    "    im_title= hem_image.find('h3').text\n",
    "    #print(im_title)\n",
    "    link= \"https://marshemispheres.com/\" + hem_image['href']\n",
    "    im_request= requests.get(link)\n",
    "    soup= bs(im_request.text, \"html.parser\")\n",
    "    img_tag=soup.find(\"div\", class_=\"downloads\").find('ul').find('li')\n",
    "    #print(img_tag)\n",
    "    img_url= img_tag.a['href']\n",
    "    hem_image_urls.append({\"Title\":im_title, \"Image_url\": img_url})\n",
    "print(hem_image_urls)"
   ]
  },
  {
   "cell_type": "code",
   "execution_count": null,
   "metadata": {},
   "outputs": [],
   "source": [
    "browser.quit()"
   ]
  }
 ],
 "metadata": {
  "kernelspec": {
   "display_name": "Python 3",
   "language": "python",
   "name": "python3"
  },
  "language_info": {
   "codemirror_mode": {
    "name": "ipython",
    "version": 3
   },
   "file_extension": ".py",
   "mimetype": "text/x-python",
   "name": "python",
   "nbconvert_exporter": "python",
   "pygments_lexer": "ipython3",
   "version": "3.6.13"
  }
 },
 "nbformat": 4,
 "nbformat_minor": 2
}
