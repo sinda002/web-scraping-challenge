{
 "cells": [
  {
   "cell_type": "code",
   "execution_count": 3,
   "metadata": {},
   "outputs": [],
   "source": [
    "from bs4 import BeautifulSoup as bs\n",
    "import requests\n",
    "from splinter import Browser\n",
    "import os\n",
    "import pandas as pd\n",
    "import time"
   ]
  },
  {
   "cell_type": "code",
   "execution_count": 5,
   "metadata": {},
   "outputs": [],
   "source": [
    "executable_path = {'executable_path': 'chromedriver.exe'}\n",
    "browser = Browser('chrome', **executable_path, headless=False)"
   ]
  },
  {
   "cell_type": "code",
   "execution_count": 7,
   "metadata": {},
   "outputs": [],
   "source": [
    "news_url = 'https://mars.nasa.gov/news/'\n",
    "browser.visit(news_url)"
   ]
  },
  {
   "cell_type": "code",
   "execution_count": null,
   "metadata": {},
   "outputs": [],
   "source": [
    "# Create a Beautiful Soup object\n",
    "news_html = browser.html\n",
    "news_soup = bs(news_html,'lxml')\n",
    "print(news_soup)"
   ]
  },
  {
   "cell_type": "code",
   "execution_count": null,
   "metadata": {},
   "outputs": [],
   "source": [
    "# Extract title  and paragraph text\n",
    "news_title = news_soup.find(\"div\",class_=\"content_title\").text\n",
    "news_para = news_soup.find(\"div\", class_=\"rollover_description_inner\").text\n",
    "print(f\"Title is: {news_title}\")\n",
    "print(f\"Paragraph is: {news_para}\")"
   ]
  },
  {
   "cell_type": "code",
   "execution_count": null,
   "metadata": {},
   "outputs": [],
   "source": [
    "# JPL Mars Space Images - Featured Image\n",
    "jurl = 'https://www.jpl.nasa.gov/spaceimages/?search=&category=Mars'\n",
    "browser.visit(jurl)"
   ]
  },
  {
   "cell_type": "code",
   "execution_count": null,
   "metadata": {},
   "outputs": [],
   "source": [
    "jhtml = browser.html\n",
    "print(jhtml)\n",
    "\n",
    "jpl_soup = bs(jhtml,\"html.parser\")\n",
    "print(jpl_soup)"
   ]
  },
  {
   "cell_type": "code",
   "execution_count": null,
   "metadata": {},
   "outputs": [],
   "source": [
    "image_url = jpl_soup.find('div',class_='carousel_container').article.footer.a['data-fancybox-href']\n",
    "print(image_url)\n",
    "base_link = \"https:\"+jpl_soup.find('div', class_='jpl_logo').a['href'].rstrip('/')\n",
    "feature_url = base_link+image_url\n",
    "featured_image_title = jpl_soup.find('h1', class_=\"media_feature_title\").text.strip()\n",
    "print(f'Featured image title is:{featured_image_title}')\n",
    "print(f'Featured image url is:{feature_url}')"
   ]
  },
  {
   "cell_type": "code",
   "execution_count": null,
   "metadata": {},
   "outputs": [],
   "source": [
    "# Mars Weather\n",
    "turl = 'https://twitter.com/marswxreport?lang=en'\n",
    "browser.visit(turl)"
   ]
  },
  {
   "cell_type": "code",
   "execution_count": null,
   "metadata": {},
   "outputs": [],
   "source": [
    "thtml = browser.html\n",
    "print(thtml)\n",
    "\n",
    "tw_soup = bs(thtml,\"html.parser\")\n",
    "print(tw_soup)"
   ]
  },
  {
   "cell_type": "code",
   "execution_count": null,
   "metadata": {},
   "outputs": [],
   "source": [
    "mars_weather = tw_soup.find(\"p\", class_= \"TweetTextSize TweetTextSize--normal js-tweet-text tweet-text\").text\n",
    "\n",
    "#for tweet in tweets:\n",
    "#print(tweet.text)\n",
    "print(f\"mars weather :{mars_weather }\")"
   ]
  },
  {
   "cell_type": "code",
   "execution_count": null,
   "metadata": {},
   "outputs": [],
   "source": [
    "# mars fact\n",
    "\n",
    "murl = 'https://space-facts.com/mars/'\n",
    "#browser.visit(murl)"
   ]
  },
  {
   "cell_type": "code",
   "execution_count": null,
   "metadata": {},
   "outputs": [],
   "source": [
    "table = pd.read_html(murl)\n",
    "table[0]"
   ]
  },
  {
   "cell_type": "code",
   "execution_count": null,
   "metadata": {},
   "outputs": [],
   "source": [
    "mars_df = table[0]\n",
    "mars_df =  mars_df[['Mars - Earth Comparison', 'Mars']]\n",
    "mars_df"
   ]
  },
  {
   "cell_type": "code",
   "execution_count": null,
   "metadata": {},
   "outputs": [],
   "source": [
    "mars_fact_html = mars_df.to_html(header=False, index=False)\n",
    "mars_fact_html"
   ]
  },
  {
   "cell_type": "code",
   "execution_count": null,
   "metadata": {},
   "outputs": [],
   "source": [
    "# Mars Hemispheres\n",
    "mhurl = 'https://astrogeology.usgs.gov/search/results?q=hemisphere+enhanced&k1=target&v1=Mars'\n",
    "browser.visit(mhurl)"
   ]
  },
  {
   "cell_type": "code",
   "execution_count": null,
   "metadata": {},
   "outputs": [],
   "source": [
    "mhtml = browser.html\n",
    "print(mhtml)\n",
    "\n",
    "mh_soup = bs(mhtml,\"html.parser\")\n",
    "print(mh_soup)"
   ]
  },
  {
   "cell_type": "code",
   "execution_count": null,
   "metadata": {},
   "outputs": [],
   "source": [
    "results = mh_soup.find_all(\"div\",class_='item')\n",
    "hemisphere_image_urls = []\n",
    "for result in results:\n",
    "        product_dict = {}\n",
    "        titles = result.find('h3').text\n",
    "        end_link = result.find(\"a\")[\"href\"]\n",
    "        image_link = \"https://astrogeology.usgs.gov/\" + end_link    \n",
    "        browser.visit(image_link)\n",
    "        html = browser.html\n",
    "        soup= bs(html, \"html.parser\")\n",
    "        downloads = soup.find(\"div\", class_=\"downloads\")\n",
    "        image_url = downloads.find(\"a\")[\"href\"]\n",
    "        print(titles)\n",
    "        print(image_url)\n",
    "        product_dict['title']= titles\n",
    "        product_dict['image_url']= image_url\n",
    "        hemisphere_image_urls.append(product_dict)"
   ]
  },
  {
   "cell_type": "code",
   "execution_count": null,
   "metadata": {},
   "outputs": [],
   "source": [
    "hemisphere_image_urls"
   ]
  }
 ],
 "metadata": {
  "kernelspec": {
   "display_name": "Python 3",
   "language": "python",
   "name": "python3"
  },
  "language_info": {
   "codemirror_mode": {
    "name": "ipython",
    "version": 3
   },
   "file_extension": ".py",
   "mimetype": "text/x-python",
   "name": "python",
   "nbconvert_exporter": "python",
   "pygments_lexer": "ipython3",
   "version": "3.8.5"
  }
 },
 "nbformat": 4,
 "nbformat_minor": 2
}
